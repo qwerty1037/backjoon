{
 "cells": [
  {
   "cell_type": "markdown",
   "metadata": {},
   "source": [
    "# DFS (Depth-First Search)"
   ]
  },
  {
   "cell_type": "markdown",
   "metadata": {},
   "source": [
    "* 깊이 우선 탐색 알고리즘으로, 시작 노드로에서부터 한 경로를 따라 최대한 깊게 탐색한 후 다른 경로를 탐색한다.\n",
    "탐색을 진행하며 방문한 노드를 스택에 저장, 더이상 탐색할 수 없을 때 스택에서 노드를 꺼내어 역순 출력.  \n",
    "\n",
    "* Stack, 재귀 호출 을 이용해 구현  \n",
    "\n",
    "* 방문한 노드를 기록해야 한다. visited 리스트를 만들어, 방문한 노드를 저장.\n"
   ]
  },
  {
   "cell_type": "markdown",
   "metadata": {},
   "source": [
    "## 구현 예시"
   ]
  },
  {
   "cell_type": "code",
   "execution_count": null,
   "metadata": {},
   "outputs": [],
   "source": [
    "def dfs(graph, start):\n",
    "  visited = [] # 방문한 노드를 저장할 리스트\n",
    "  stack = [start] # 시작 노드를 스택에 저장\n",
    "  while stack:\n",
    "    node = stack.pop() # 스택에서 노드를 꺼냄\n",
    "    if node not in visited:\n",
    "      visited.append(node) # 방문한 노드를 저장\n",
    "      stack.extend(graph[node] - set(visited)) # 방문하지 않은 인접 노드를 스택에 추가\n",
    "  return visited"
   ]
  },
  {
   "cell_type": "markdown",
   "metadata": {},
   "source": [
    "# BFS (Breadth-First Search)\n",
    "\n",
    "* 너비 우선 탐색 알고리즘으로, 시작 노트에서부터 인접한 노드를 모두 탐색한 후 다음 노드로 이동한다. 탐색을 진행하며 방문한 노드를 큐에 저장, 먼저 저장된 노드부터 출력한다.  \n",
    "\n",
    "* Queue 를 이용해 구현  \n",
    "\n",
    "* 방문한 노드를 기록, 인접한 노드를 큐에 저장."
   ]
  },
  {
   "cell_type": "markdown",
   "metadata": {},
   "source": [
    "## 구현 예시"
   ]
  },
  {
   "cell_type": "code",
   "execution_count": null,
   "metadata": {},
   "outputs": [],
   "source": [
    "from collection import deque\n",
    "\n",
    "def bfs(graph, start):\n",
    "  visited = [] # 방문한 노드를 저장할 리스트\n",
    "  queue = deque([start])\n",
    "  while queue:\n",
    "    node = queue.popleft() # 큐에서 노드를 꺼냄\n",
    "    if node not in visited:\n",
    "      visited.append(node) # 방문한 노드를 저장\n",
    "      queue.extend(graph[node] - set(visited)) # 방문하지 않은 인접 노드를 큐에 추가\n",
    "  return visited"
   ]
  }
 ],
 "metadata": {
  "language_info": {
   "name": "python"
  }
 },
 "nbformat": 4,
 "nbformat_minor": 2
}
