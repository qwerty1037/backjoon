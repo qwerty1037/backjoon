{
 "cells": [
  {
   "cell_type": "markdown",
   "metadata": {},
   "source": [
    "# 1003. 피보나치 함수\n",
    "\n",
    "* Difficulty: Silver 3   \n",
    "\n",
    "\n",
    "------\n",
    "\n",
    "### 문제\n",
    "\n",
    "다음 소스는 N번째 피보나치 수를 구하는 C++ 함수이다.\n",
    "\n",
    "```cpp\n",
    "int fibonacci(int n) {\n",
    "    if (n == 0) {\n",
    "        printf(\"0\");\n",
    "        return 0;\n",
    "    } else if (n == 1) {\n",
    "        printf(\"1\");\n",
    "        return 1;\n",
    "    } else {\n",
    "        return fibonacci(n‐1) + fibonacci(n‐2);\n",
    "    }\n",
    "}\n",
    "```\n",
    "fibonacci(3)을 호출하면 다음과 같은 일이 일어난다.  \n",
    "\n",
    "fibonacci(3)은 fibonacci(2)와 fibonacci(1) (첫 번째 호출)을 호출한다.  \n",
    "fibonacci(2)는 fibonacci(1) (두 번째 호출)과 fibonacci(0)을 호출한다.  \n",
    "두 번째 호출한 fibonacci(1)은 1을 출력하고 1을 리턴한다.  \n",
    "fibonacci(0)은 0을 출력하고, 0을 리턴한다.  \n",
    "fibonacci(2)는 fibonacci(1)과 fibonacci(0)의 결과를 얻고, 1을 리턴한다.  \n",
    "첫 번째 호출한 fibonacci(1)은 1을 출력하고, 1을 리턴한다.  \n",
    "fibonacci(3)은 fibonacci(2)와 fibonacci(1)의 결과를 얻고, 2를 리턴한다.  \n",
    "1은 2번 출력되고, 0은 1번 출력된다. N이 주어졌을 때, fibonacci(N)을 호출했을 때, 0과 1이 각각 몇 번 출력되는지 구하는 프로그램을 작성하시오.  \n",
    "\n",
    "### 입력\n",
    "\n",
    "첫째 줄에 테스트 케이스의 개수 T가 주어진다.\n",
    "\n",
    "각 테스트 케이스는 한 줄로 이루어져 있고, N이 주어진다. N은 40보다 작거나 같은 자연수 또는 0이다.\n",
    "\n",
    "### 출력\n",
    "\n",
    "각 테스트 케이스마다 0이 출력되는 횟수와 1이 출력되는 횟수를 공백으로 구분해서 출력한다.\n",
    "\n",
    "\n",
    "\n"
   ]
  },
  {
   "cell_type": "code",
   "execution_count": 8,
   "metadata": {},
   "outputs": [
    {
     "name": "stdout",
     "output_type": "stream",
     "text": [
      "False\n",
      "True\n"
     ]
    }
   ],
   "source": [
    "dp = {0:0, 1:1, 2:1, 3:7}\n",
    "\n",
    "print(4 in dp)\n",
    "print(3 in dp)\n"
   ]
  },
  {
   "cell_type": "code",
   "execution_count": 15,
   "metadata": {},
   "outputs": [
    {
     "name": "stdout",
     "output_type": "stream",
     "text": [
      "1 2\n"
     ]
    }
   ],
   "source": [
    "import sys\n",
    "\n",
    "t = int(sys.stdin.readline().strip())\n",
    "# t=1\n",
    "# n=3\n",
    "\n",
    "dp = {0:[0,1,0], 1:[1,0,1]}\n",
    "\n",
    "def fibonacci(n):\n",
    "  global count_0\n",
    "  global count_1\n",
    "  if n == 0:\n",
    "    return dp[0][0]\n",
    "  elif n == 1:\n",
    "    return dp[1][0]\n",
    "  else:\n",
    "    if n in dp:\n",
    "      return dp[n][0]\n",
    "    else:\n",
    "      dp[n] = [fibonacci(n-1) + fibonacci(n-2), dp[n-1][1] +\n",
    "               dp[n-2][1], dp[n-1][2]+dp[n-2][2]]\n",
    "      return dp[n][0]\n",
    "\n",
    "for i in range(t):\n",
    "  n = int(sys.stdin.readline().strip())\n",
    "  fibonacci(n)\n",
    "  print(f\"{dp[n][1]} {dp[n][2]}\")"
   ]
  },
  {
   "cell_type": "markdown",
   "metadata": {},
   "source": [
    "## 정리할 점  \n",
    "\n",
    "---\n",
    "\n",
    "* 파이썬 입출력\n",
    "\n",
    "왠만하면 sys.stdin.readline()으로 받아오자. 이때, sys.stdin.readline()은 \\n\\ (개행) 을 포함하는 입력이므로 strip()을 이용해 제거해줌.\n",
    "\n",
    "* 문자열 중복 제거\n",
    "\n",
    "set()을 이용해 list를 set으로 변환한다. 이 과정에서 중복을 제거할 수 있다.\n",
    "\n",
    "* 정렬의 순서\n",
    "\n",
    "상위 조건 A, 하위 조건 B가 있을 때 먼저 하위 조건 B로 정렬 후 상위 조건 A로 정렬을 해야 한다."
   ]
  }
 ],
 "metadata": {
  "kernelspec": {
   "display_name": "opencv_workspace",
   "language": "python",
   "name": "python3"
  },
  "language_info": {
   "codemirror_mode": {
    "name": "ipython",
    "version": 3
   },
   "file_extension": ".py",
   "mimetype": "text/x-python",
   "name": "python",
   "nbconvert_exporter": "python",
   "pygments_lexer": "ipython3",
   "version": "3.10.6"
  }
 },
 "nbformat": 4,
 "nbformat_minor": 2
}
