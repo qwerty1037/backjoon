{
 "cells": [
  {
   "cell_type": "markdown",
   "metadata": {},
   "source": [
    "# 1074. Z\n",
    "\n",
    "* Difficulty: Silver 1   \n",
    "\n",
    "\n",
    "------\n",
    "\n",
    "### 문제\n",
    "\n",
    "https://www.acmicpc.net/problem/1074"
   ]
  },
  {
   "cell_type": "markdown",
   "metadata": {},
   "source": [
    "### 내 풀이"
   ]
  },
  {
   "cell_type": "code",
   "execution_count": 16,
   "metadata": {},
   "outputs": [
    {
     "name": "stdout",
     "output_type": "stream",
     "text": [
      "786432\n"
     ]
    }
   ],
   "source": [
    "import sys\n",
    "sys.setrecursionlimit(10000)  # 재귀 깊이 설정\n",
    "\n",
    "N, r, c = map(int, sys.stdin.readline().strip().split())\n",
    "# N = 10\n",
    "# r = 512\n",
    "# c = 512\n",
    "\n",
    "cnt = 0\n",
    "def Z(r,c,n):\n",
    "  global cnt\n",
    "  if n == 1:\n",
    "    cnt += 2*r + c\n",
    "    return\n",
    "\n",
    "  m = pow(2,n-1)\n",
    "  if r < m and c < m:\n",
    "    Z(r,c,n-1)\n",
    "  elif r < m and c >= m:\n",
    "    cnt += pow(2,2*(n-1))\n",
    "    Z(r,c-m,n-1)\n",
    "  elif r >= m and c < m:\n",
    "    cnt += 2 * pow(2, 2*(n-1))\n",
    "    Z(r-m,c,n-1)\n",
    "  elif r >= m and c >= m:\n",
    "    cnt += 3 * pow(2, 2*(n-1))\n",
    "    Z(r-m,c-m,n-1)\n",
    "\n",
    "Z(r,c,N)\n",
    "print(cnt)"
   ]
  },
  {
   "cell_type": "markdown",
   "metadata": {},
   "source": [
    "### 해답\n"
   ]
  },
  {
   "cell_type": "code",
   "execution_count": null,
   "metadata": {},
   "outputs": [],
   "source": [
    "N, r, c = map(int, input().split())\n",
    "\n",
    "\n",
    "def recursive(n, row, col):\n",
    "    if n == 0:\n",
    "        return 0\n",
    "    cur_count = 2 * (row % 2) + (col % 2)\n",
    "    return 4 * recursive(n-1, row // 2, col // 2) + cur_count\n",
    "\n",
    "\n",
    "print(recursive(N, r, c))"
   ]
  },
  {
   "cell_type": "markdown",
   "metadata": {},
   "source": [
    "#### DFS"
   ]
  },
  {
   "cell_type": "code",
   "execution_count": 15,
   "metadata": {},
   "outputs": [
    {
     "name": "stdout",
     "output_type": "stream",
     "text": [
      "1 2\n"
     ]
    }
   ],
   "source": [
    "import sys\n",
    "sys.setrecursionlimit(10000) # 재귀 깊이 설정\n",
    "\n",
    "T = int(sys.stdin.readline().strip())\n",
    "\n",
    "# 인접 노드 탑색을 위한 list\n",
    "dx = [-1,1,0,0]\n",
    "dy = [0,0,-1,1]\n",
    "\n",
    "def dfs(x,y,N,M):\n",
    "  # 그래프 범위를 벗어났을 경우\n",
    "  if x <= -1 or x >= M or y <= -1 or y >= N:\n",
    "    return False\n",
    "  \n",
    "  if graph[x][y] == 1:\n",
    "    graph[x][y] = 0 # visited\n",
    "\n",
    "    for i in range(4):\n",
    "      dfs(x + dx[i], y + dy[i],N,M) # 인접 노드 탐색\n",
    "\n",
    "    return True\n",
    "  return False\n",
    "\n",
    "for _ in range(T):\n",
    "  M, N, K = list(map(int, sys.stdin.readline().split()))\n",
    "\n",
    "  graph = [[0]*M for _ in range(N)] # 가로m*세로n의 2차원 배열 생성\n",
    "\n",
    "  for _ in range(K):\n",
    "    x, y  = map(int, sys.stdin.readline().strip().split())\n",
    "    graph[y][x] = 1 # 배추 좌표 저장\n",
    "\n",
    "  cnt = 0\n",
    "  for i in range(N):\n",
    "    for j in range(M):\n",
    "      if dfs(i,j,N,M):\n",
    "        cnt += 1\n",
    "\n",
    "  print(cnt)\n",
    "\n",
    "  "
   ]
  },
  {
   "cell_type": "markdown",
   "metadata": {},
   "source": [
    "#### BFS"
   ]
  },
  {
   "cell_type": "code",
   "execution_count": null,
   "metadata": {},
   "outputs": [],
   "source": [
    "import sys\n",
    "from collections import deque\n",
    "\n",
    "T = int(sys.stdin.readline().strip())\n",
    "\n",
    "# 인접 노드 탑색을 위한 list\n",
    "dx = [-1, 1, 0, 0]\n",
    "dy = [0, 0, -1, 1]\n",
    "\n",
    "def bfs(x,y,M,N):\n",
    "  queue = deque()\n",
    "  queue.append((x,y))\n",
    "\n",
    "  while queue:\n",
    "    x,y = queue.popleft()\n",
    "    for i in range(4):\n",
    "      nx = x + dx[i]\n",
    "      ny = y + dy[i]\n",
    "\n",
    "      if nx < 0 or ny < 0 or nx >= M or ny >= N:\n",
    "        continue\n",
    "\n",
    "      if graph[ny][nx] == 1:\n",
    "        queue.append((nx,ny))\n",
    "        graph[ny][nx] = 0\n",
    "\n",
    "  return\n",
    "\n",
    "\n",
    "for _ in range(T):\n",
    "  M, N, K = list(map(int, sys.stdin.readline().split()))\n",
    "\n",
    "  graph = [[0]*M for _ in range(N)] # 가로m * 세로n 2차원 배열 생성\n",
    "\n",
    "  for _ in range(K):\n",
    "    x, y = map(int, sys.stdin.readline().strip().split())\n",
    "    graph[y][x] = 1  # 배추 좌표 저장\n",
    "\n",
    "  cnt = 0\n",
    "  for i in range(N):\n",
    "    for j in range(M):\n",
    "      if graph[i][j] == 1:\n",
    "        bfs(j,i,M,N)\n",
    "        cnt += 1\n",
    "  \n",
    "  print(cnt)"
   ]
  },
  {
   "cell_type": "markdown",
   "metadata": {},
   "source": [
    "## 정리할 점  \n",
    "\n",
    "---\n",
    "\n",
    "* BFS, DFS 구현하는 방법을 확실하게 알아두자! "
   ]
  }
 ],
 "metadata": {
  "kernelspec": {
   "display_name": "opencv_workspace",
   "language": "python",
   "name": "python3"
  },
  "language_info": {
   "codemirror_mode": {
    "name": "ipython",
    "version": 3
   },
   "file_extension": ".py",
   "mimetype": "text/x-python",
   "name": "python",
   "nbconvert_exporter": "python",
   "pygments_lexer": "ipython3",
   "version": "3.10.6"
  }
 },
 "nbformat": 4,
 "nbformat_minor": 2
}
