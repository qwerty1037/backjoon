{
 "cells": [
  {
   "cell_type": "markdown",
   "metadata": {},
   "source": [
    "# 1259. 펠린드롬 수\n",
    "\n",
    "* Difficulty: Bronze 1   \n",
    "\n",
    "------\n",
    "\n",
    "### 문제\n",
    "\n",
    "A word is a palindrome if it reads the same backwards as it does forwards. For example, words such as ‘radar’ and ‘sees’ are palindromes.\n",
    "\n",
    "Mrs Jones, a primary school teacher, thought it would be good for her pupils if they could tell her whether a number had the same property, i.e., it read the same backwards as it did forwards. Numbers like 121 or 12421 would qualify, numbers like 123 or 1231 would not. Numbers like 10 would also not qualify—even though 10 can be written palindromically as 010, Mrs Jones is restricting this to numbers written in the normal decimal way, with no leading zeros.\n",
    "\n",
    "This problem asks you to perform this task on each of a series of numbers.\n",
    "\n",
    "### 입력\n",
    "\n",
    "Input to this problem is a series of integers (all between 1 and 99999) each on a separate line. The number 0 will be the last line of input and should not be processed.\n",
    "\n",
    "### 출력\n",
    "\n",
    "Output will be one line for each line of input, containing just the word ‘yes’ if the number qualifies as a palindrome number, ‘no’ if it does not.\n",
    "\n"
   ]
  },
  {
   "cell_type": "code",
   "execution_count": 3,
   "metadata": {},
   "outputs": [
    {
     "name": "stdout",
     "output_type": "stream",
     "text": [
      "2\n"
     ]
    }
   ],
   "source": [
    "lst = 12345\n",
    "\n",
    "s = str(lst)\n",
    "print(s[1])\n"
   ]
  },
  {
   "cell_type": "code",
   "execution_count": 1,
   "metadata": {},
   "outputs": [],
   "source": [
    "import sys\n",
    "\n",
    "lst = []\n",
    "while True:\n",
    "    input_integer = int(sys.stdin.readline().strip())\n",
    "    if input_integer == 0:\n",
    "        break\n",
    "    lst.append(input_integer)\n",
    "    \n",
    "for i in lst:\n",
    "    clst = list(map(int,str(i)))\n",
    "    rlst = clst[:]\n",
    "    rlst.reverse()\n",
    "    if clst == rlst:\n",
    "        print('yes')\n",
    "    else:\n",
    "        print('no')\n",
    "\n",
    "\n"
   ]
  },
  {
   "cell_type": "markdown",
   "metadata": {},
   "source": [
    "## 정리할 점  \n",
    "\n",
    "---\n",
    "\n",
    "* 정수를 list로 변환하기\n",
    "\n",
    "map(int, str(int)) : 정수를 문자열로 변환 후, 각 요소(이 경우에는 한 글자)마다 int로 변환, 즉 123을 입력받으면 1, 2, 3으로 쪼개짐\n",
    "list(map(int,str(int))) : 쪼개진 정수들을 리스트로 변환\n",
    "\n",
    "* list 뒤집기\n",
    "\n",
    "문자열을 뒤집는 함수는 존재하지 않는다. 따라서 문자열을 list로 변환 후 reverse()를 이용해 뒤집어야 한다.\n",
    "\n",
    "* 얕은 복사, 깊은 복사\n",
    "\n",
    "리스트에 대해 alist = blist 는 얕은 복사이다. 이 상태에서 alist.reverse()를 하게 되면 blist도 뒤집힌다.\n",
    "따라서, \n",
    "alist = blist[:]\n",
    ", 혹은 \n",
    "from copy import copy\n",
    "alist = copy(blist)\n",
    "와 같이 깊은 복사를 해주어야 한다."
   ]
  }
 ],
 "metadata": {
  "kernelspec": {
   "display_name": "opencv_workspace",
   "language": "python",
   "name": "python3"
  },
  "language_info": {
   "codemirror_mode": {
    "name": "ipython",
    "version": 3
   },
   "file_extension": ".py",
   "mimetype": "text/x-python",
   "name": "python",
   "nbconvert_exporter": "python",
   "pygments_lexer": "ipython3",
   "version": "3.7.9"
  }
 },
 "nbformat": 4,
 "nbformat_minor": 2
}
