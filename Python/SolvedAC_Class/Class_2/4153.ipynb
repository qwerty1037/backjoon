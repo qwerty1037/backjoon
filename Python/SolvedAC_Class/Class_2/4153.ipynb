{
 "cells": [
  {
   "cell_type": "markdown",
   "metadata": {},
   "source": [
    "# 4153. Egypt\n",
    "\n",
    "* Difficulty: Bronze 3  \n",
    "\n",
    "------\n",
    "\n",
    "### 문제\n",
    "\n",
    "A long time ago, the Egyptians figured out that a triangle with sides of length 3, 4, and 5 had a right angle as its largest angle. You must determine if other triangles have a similar property.\n",
    "\n",
    "### 입력\n",
    "\n",
    "Input represents several test cases, followed by a line containing 0 0 0. Each test case has three positive integers, less than 30,000, denoting the lengths of the sides of a triangle.\n",
    "\n",
    "\n",
    "### 출력\n",
    "\n",
    "For each test case, a line containing \"right\" if the triangle is a right triangle, and a line containing \"wrong\" if the triangle is not a right triangle.\n",
    "\n"
   ]
  },
  {
   "cell_type": "code",
   "execution_count": 6,
   "metadata": {},
   "outputs": [
    {
     "name": "stdout",
     "output_type": "stream",
     "text": [
      "0\n",
      "1\n",
      "2\n"
     ]
    }
   ],
   "source": [
    "for idx, a in enumerate([1,2,3]):\n",
    "  print(idx)"
   ]
  },
  {
   "cell_type": "code",
   "execution_count": 2,
   "metadata": {},
   "outputs": [
    {
     "name": "stdout",
     "output_type": "stream",
     "text": [
      "497\n"
     ]
    }
   ],
   "source": [
    "import sys\n",
    "\n",
    "while True:\n",
    "  arr = list(map(int, sys.stdin.readline().strip().split()))\n",
    "\n",
    "  if arr[0] == 0:\n",
    "    break\n",
    "\n",
    "  arr.sort()\n",
    "  \n",
    "  if pow(arr[2],2) == pow(arr[1],2) + pow(arr[0],2):\n",
    "    print(\"right\")\n",
    "  else:\n",
    "    print(\"wrong\")\n",
    "\n",
    "  \n",
    "\n"
   ]
  },
  {
   "cell_type": "markdown",
   "metadata": {},
   "source": [
    "## 정리할 점  \n",
    "\n",
    "---\n",
    "\n",
    "* 파이썬 제곱함수: pow"
   ]
  }
 ],
 "metadata": {
  "kernelspec": {
   "display_name": "opencv_workspace",
   "language": "python",
   "name": "python3"
  },
  "language_info": {
   "codemirror_mode": {
    "name": "ipython",
    "version": 3
   },
   "file_extension": ".py",
   "mimetype": "text/x-python",
   "name": "python",
   "nbconvert_exporter": "python",
   "pygments_lexer": "ipython3",
   "version": "3.10.6"
  }
 },
 "nbformat": 4,
 "nbformat_minor": 2
}
