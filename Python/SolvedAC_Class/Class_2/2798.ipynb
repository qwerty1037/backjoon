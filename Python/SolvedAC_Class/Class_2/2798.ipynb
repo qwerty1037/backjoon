{
 "cells": [
  {
   "cell_type": "markdown",
   "metadata": {},
   "source": [
    "# 2798. JACK\n",
    "\n",
    "* Difficulty: Bronze 2  \n",
    "\n",
    "------\n",
    "\n",
    "### 문제\n",
    "\n",
    "In “Blackjack”, a popular card game, the goal is to have cards which sum up to largest number not exceeding 21. Mirko came up with his own version of this game.\n",
    "\n",
    "In Mirko‟s game, cards have positive integers written on them. The player is given a set of cards and an integer M. He must choose three cards from this set so that their sum comes as close as possible to M without exceeding it. This is not always easy since there can be a hundred of cards in the given set.\n",
    "\n",
    "Help Mirko by writing a program that finds the best possible outcome of given game.\n",
    "\n",
    "### 입력\n",
    "\n",
    "The first line of input contains an integer N (3 ≤ N ≤ 100), the number of cards, and M (10 ≤ M ≤ 300 000), the number that we must not exceed.\n",
    "\n",
    "The following line contains numbers written on Mirko‟s cards: N distinct space-separated positive integers less than 100 000.\n",
    "\n",
    "There will always exist some three cards whose sum is not greater than M.\n",
    "\n",
    "\n",
    "### 출력\n",
    "\n",
    "The first and only line of output should contain the largest possible sum we can obtain.\n",
    "\n"
   ]
  },
  {
   "cell_type": "code",
   "execution_count": 6,
   "metadata": {},
   "outputs": [
    {
     "name": "stdout",
     "output_type": "stream",
     "text": [
      "0\n",
      "1\n",
      "2\n"
     ]
    }
   ],
   "source": [
    "for idx, a in enumerate([1,2,3]):\n",
    "  print(idx)"
   ]
  },
  {
   "cell_type": "code",
   "execution_count": 2,
   "metadata": {},
   "outputs": [
    {
     "name": "stdout",
     "output_type": "stream",
     "text": [
      "497\n"
     ]
    }
   ],
   "source": [
    "import sys\n",
    "\n",
    "# N,M = map(int,sys.stdin.readline().strip().split())\n",
    "# list_cards = list(map(int, sys.stdin.readline().strip().split()))\n",
    "\n",
    "N = 10\n",
    "M = 500\n",
    "list_cards = [93, 181, 245, 214, 315, 36, 185, 138, 216, 295]\n",
    "\n",
    "list_cards.sort()\n",
    "\n",
    "maximum = 0\n",
    "\n",
    "for a in range(N-2):\n",
    "  for b in range(a+1, N-1):\n",
    "    for c in range(b+1, N):\n",
    "      sum = list_cards[a]+list_cards[b]+list_cards[c]\n",
    "      if sum > M:\n",
    "        break\n",
    "      elif sum > maximum:\n",
    "        maximum = sum\n",
    "        # continue\n",
    "      # else:\n",
    "      #   continue\n",
    "\n",
    "print(maximum)\n",
    "    \n",
    "\n",
    "\n",
    "\n"
   ]
  },
  {
   "cell_type": "markdown",
   "metadata": {},
   "source": [
    "## 정리할 점  \n",
    "\n",
    "---\n",
    "\n",
    "* 브루트 포스 알고리즘:  \n",
    "  \n",
    "  그냥 단순한 n중 for문이다. 빠른 탐색을 위해 break문을 넣어주면 좋다."
   ]
  }
 ],
 "metadata": {
  "kernelspec": {
   "display_name": "opencv_workspace",
   "language": "python",
   "name": "python3"
  },
  "language_info": {
   "codemirror_mode": {
    "name": "ipython",
    "version": 3
   },
   "file_extension": ".py",
   "mimetype": "text/x-python",
   "name": "python",
   "nbconvert_exporter": "python",
   "pygments_lexer": "ipython3",
   "version": "3.10.6"
  }
 },
 "nbformat": 4,
 "nbformat_minor": 2
}
