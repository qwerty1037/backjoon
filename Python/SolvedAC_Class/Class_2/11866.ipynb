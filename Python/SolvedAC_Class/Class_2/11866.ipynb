{
 "cells": [
  {
   "cell_type": "markdown",
   "metadata": {},
   "source": [
    "# 11866. 요세푸스 문제 0 \n",
    "\n",
    "* Difficulty: Silver 5 \n",
    "\n",
    "------\n",
    "\n",
    "### 문제\n",
    "\n",
    "요세푸스 문제는 다음과 같다.\n",
    "\n",
    "1번부터 N번까지 N명의 사람이 원을 이루면서 앉아있고, 양의 정수 K(≤ N)가 주어진다. 이제 순서대로 K번째 사람을 제거한다. 한 사람이 제거되면 남은 사람들로 이루어진 원을 따라 이 과정을 계속해 나간다. 이 과정은 N명의 사람이 모두 제거될 때까지 계속된다. 원에서 사람들이 제거되는 순서를 (N, K)-요세푸스 순열이라고 한다. 예를 들어 (7, 3)-요세푸스 순열은 <3, 6, 2, 7, 5, 1, 4>이다.\n",
    "\n",
    "N과 K가 주어지면 (N, K)-요세푸스 순열을 구하는 프로그램을 작성하시오.\n",
    "\n",
    "### 입력\n",
    "\n",
    "첫째 줄에 N과 K가 빈 칸을 사이에 두고 순서대로 주어진다. (1 ≤ K ≤ N ≤ 1,000)\n",
    "\n",
    "### 출력\n",
    "\n",
    "예제와 같이 요세푸스 순열을 출력한다.\n",
    "\n"
   ]
  },
  {
   "cell_type": "markdown",
   "metadata": {},
   "source": [
    "## 내 풀이"
   ]
  },
  {
   "cell_type": "code",
   "execution_count": 2,
   "metadata": {},
   "outputs": [
    {
     "name": "stdout",
     "output_type": "stream",
     "text": [
      "<3, 6, 2, 7, 5, 1, 4>"
     ]
    }
   ],
   "source": [
    "import sys\n",
    "\n",
    "n, k = map(int,sys.stdin.readline().strip().split())\n",
    "# n=7\n",
    "# k=3\n",
    "\n",
    "arr = list(range(1,n+1))\n",
    "index = 0\n",
    "\n",
    "print(\"<\", end=\"\")\n",
    "for i in range(n):\n",
    "  for j in range(k):\n",
    "    if index == len(arr):\n",
    "      index = 1\n",
    "    else:\n",
    "      index += 1\n",
    "  print(arr.pop(index - 1),end = \"\")\n",
    "  index -= 1\n",
    "  if i != n-1:\n",
    "    print(\", \", end = \"\")\n",
    "  else:\n",
    "    print(\">\", end = \"\")\n",
    "\n"
   ]
  },
  {
   "cell_type": "markdown",
   "metadata": {},
   "source": [
    "## 해답 1\n",
    "\n",
    "출처: https://develop247.tistory.com/358 [ImJay:티스토리]"
   ]
  },
  {
   "cell_type": "code",
   "execution_count": null,
   "metadata": {},
   "outputs": [],
   "source": [
    "import sys\n",
    "from collections import deque\n",
    "\n",
    "# 입력 받기\n",
    "n, k = map(int, input().split())\n",
    "\n",
    "# 양방향 연결 리스트(deque) 생성\n",
    "deq = deque([i for i in range(1, n+1)])\n",
    "\n",
    "# 요세푸스 순열 생성\n",
    "res = []\n",
    "while len(deq) != 0:\n",
    "    for _ in range(k-1):\n",
    "        # k-1번째 노드까지 deq 맨 뒤로 이동\n",
    "        deq.append(deq.popleft())\n",
    "    # k번째 노드 삭제 후 결과 배열에 추가\n",
    "    res.append(str(deq.popleft()))\n",
    "\n",
    "# 결과 출력\n",
    "print('<'+', '.join(res)+'>')"
   ]
  },
  {
   "cell_type": "markdown",
   "metadata": {},
   "source": [
    "Deque를 이용해 구현한다. k-1번째까지의 노드를 pop()하여 회전시킨다. 따라서 시간 복잡도는 O(NK)이다."
   ]
  },
  {
   "cell_type": "markdown",
   "metadata": {},
   "source": [
    "## 해답 2\n",
    "출처: https://develop247.tistory.com/358 [ImJay:티스토리]"
   ]
  },
  {
   "cell_type": "code",
   "execution_count": null,
   "metadata": {},
   "outputs": [],
   "source": [
    "import sys\n",
    "\n",
    "# 입력 받기\n",
    "n, k = map(int, sys.stdin.readline().split())\n",
    "\n",
    "# 요세푸스 순열 생성\n",
    "idx = 0\n",
    "queue = [i for i in range(1, n+1)]\n",
    "res = []\n",
    "while queue:\n",
    "    idx += k - 1  # k-1번째 인덱스까지 건너뛰기\n",
    "    if idx >= len(queue):  # 인덱스가 범위를 넘어갈 경우\n",
    "        idx %= len(queue)  # 나머지 연산을 통해 인덱스 계산\n",
    "    res.append(str(queue.pop(idx)))  # k번째 수 제거 후 결과 배열에 추가\n",
    "\n",
    "# 결과 출력\n",
    "print(\"<\", \", \".join(res), \">\", sep=\"\")"
   ]
  },
  {
   "cell_type": "markdown",
   "metadata": {},
   "source": [
    "queue를 이용해 구현한다. 내가 구현한 방법과 유사하다."
   ]
  },
  {
   "cell_type": "markdown",
   "metadata": {},
   "source": [
    "## 정리할 점  \n",
    "\n",
    "---\n",
    "\n",
    "* deque와 queue를 이용해 구현하는 방법을 익혀 두자. from collection import deque로 deque를 불러올 수 있다."
   ]
  }
 ],
 "metadata": {
  "kernelspec": {
   "display_name": "opencv_workspace",
   "language": "python",
   "name": "python3"
  },
  "language_info": {
   "codemirror_mode": {
    "name": "ipython",
    "version": 3
   },
   "file_extension": ".py",
   "mimetype": "text/x-python",
   "name": "python",
   "nbconvert_exporter": "python",
   "pygments_lexer": "ipython3",
   "version": "3.10.6"
  }
 },
 "nbformat": 4,
 "nbformat_minor": 2
}
