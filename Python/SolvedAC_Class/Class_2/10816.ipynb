{
 "cells": [
  {
   "cell_type": "markdown",
   "metadata": {},
   "source": [
    "# 10816. 숫자 카드 2 \n",
    "\n",
    "* Difficulty: Silver 4 \n",
    "\n",
    "------\n",
    "\n",
    "### 문제\n",
    "\n",
    "숫자 카드는 정수 하나가 적혀져 있는 카드이다. 상근이는 숫자 카드 N개를 가지고 있다. 정수 M개가 주어졌을 때, 이 수가 적혀있는 숫자 카드를 상근이가 몇 개 가지고 있는지 구하는 프로그램을 작성하시오.\n",
    "\n",
    "\n",
    "### 입력\n",
    "\n",
    "첫째 줄에 상근이가 가지고 있는 숫자 카드의 개수 N(1 ≤ N ≤ 500,000)이 주어진다. 둘째 줄에는 숫자 카드에 적혀있는 정수가 주어진다. 숫자 카드에 적혀있는 수는 -10,000,000보다 크거나 같고, 10,000,000보다 작거나 같다.\n",
    "\n",
    "셋째 줄에는 M(1 ≤ M ≤ 500,000)이 주어진다. 넷째 줄에는 상근이가 몇 개 가지고 있는 숫자 카드인지 구해야 할 M개의 정수가 주어지며, 이 수는 공백으로 구분되어져 있다. 이 수도 -10,000,000보다 크거나 같고, 10,000,000보다 작거나 같다.\n",
    "\n",
    "\n",
    "### 출력\n",
    "\n",
    "첫째 줄에 입력으로 주어진 M개의 수에 대해서, 각 수가 적힌 숫자 카드를 상근이가 몇 개 가지고 있는지를 공백으로 구분해 출력한다.\n",
    "\n",
    "\n"
   ]
  },
  {
   "cell_type": "code",
   "execution_count": null,
   "metadata": {},
   "outputs": [],
   "source": [
    "import sys\n",
    "\n",
    "N = int(sys.stdin.readline().strip())\n",
    "cards_list = sorted(list(map(int, sys.stdin.readline().strip().split())))\n",
    "\n",
    "M = int(sys.stdin.readline().strip())\n",
    "check_list = list(map(int, sys.stdin.readline().strip().split()))\n",
    "\n",
    "hash_table = {}\n",
    "for element in cards_list:\n",
    "  if element in hash_table:\n",
    "    hash_table[element] += 1\n",
    "  else:\n",
    "    hash_table[element] = 1\n",
    "\n",
    "# 이분 탐색\n",
    "# 이미 hash table을 만들었는데 왜 탐색이 필요한가?\n",
    "# 주어진 숫자가 있는지 없는지를 탐색하기 위함(사실 dict 사용시 불필요)\n",
    "# 이분 탐색을 구현하는 방법을 익혀 두자.\n",
    "\n",
    "def binarySearch(array, target, start, end):\n",
    "  if start > end:\n",
    "    return 0\n",
    "  \n",
    "  mid = (start + end) // 2\n",
    "  if array[mid] == target:\n",
    "    return hash_table.get(target)\n",
    "  elif array[mid] < target:\n",
    "    return binarySearch(array = array, target = target, start = mid + 1, end = end)\n",
    "  else:\n",
    "    return binarySearch(array = array, target = target, start = start, end = mid - 1)\n",
    "\n",
    "for element in check_list:\n",
    "  print(binarySearch(cards_list, element, 0, len(check_list) - 1), end = \" \")\n"
   ]
  },
  {
   "cell_type": "code",
   "execution_count": null,
   "metadata": {},
   "outputs": [],
   "source": [
    "import sys\n",
    "\n",
    "N = int(sys.stdin.readline().strip())\n",
    "cards_list = list(map(int, sys.stdin.readline().strip().split()))\n",
    "\n",
    "M = int(sys.stdin.readline().strip())\n",
    "check_list = list(map(int, sys.stdin.readline().strip().split()))\n",
    "\n",
    "cards_list.sort()\n",
    "\n",
    "hash_table = {}\n",
    "for element in cards_list:\n",
    "  if element in hash_table:\n",
    "    hash_table[element] += 1\n",
    "  else:\n",
    "    hash_table[element] = 1\n",
    "\n",
    "count = []\n",
    "for i in range(M):\n",
    "  result = hash_table.get(check_list[i])\n",
    "  if result == None:\n",
    "    print(0, end = \" \")\n",
    "  else:\n",
    "    print(result, end = \" \")"
   ]
  },
  {
   "cell_type": "markdown",
   "metadata": {},
   "source": [
    "## 정리할 점  \n",
    "\n",
    "---\n",
    "\n",
    "* 이분 탐색 구현: 첫번째 해답에서 구현한 이분 탐색에 대해 익히자.  \n",
    "  \n",
    "* 해시: key-value를 이용한다. python에서는 주로 dict 자료형을 사용.   \n",
    "  \n",
    "* dict 자료형: 두번째 해답에서 사용한 `get` 함수  "
   ]
  }
 ],
 "metadata": {
  "kernelspec": {
   "display_name": "opencv_workspace",
   "language": "python",
   "name": "python3"
  },
  "language_info": {
   "codemirror_mode": {
    "name": "ipython",
    "version": 3
   },
   "file_extension": ".py",
   "mimetype": "text/x-python",
   "name": "python",
   "nbconvert_exporter": "python",
   "pygments_lexer": "ipython3",
   "version": "3.10.6"
  }
 },
 "nbformat": 4,
 "nbformat_minor": 2
}
