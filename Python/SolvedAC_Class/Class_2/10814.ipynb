{
 "cells": [
  {
   "cell_type": "markdown",
   "metadata": {},
   "source": [
    "# 10814. 나이순 정렬\n",
    "\n",
    "* Difficulty: Silver 5 \n",
    "\n",
    "------\n",
    "\n",
    "### 문제\n",
    "\n",
    "온라인 저지에 가입한 사람들의 나이와 이름이 가입한 순서대로 주어진다. 이때, 회원들을 나이가 증가하는 순으로, 나이가 같으면 먼저 가입한 사람이 앞에 오는 순서로 정렬하는 프로그램을 작성하시오.\n",
    "\n",
    "\n",
    "### 입력\n",
    "\n",
    "첫째 줄에 온라인 저지 회원의 수 N이 주어진다. (1 ≤ N ≤ 100,000)\n",
    "\n",
    "둘째 줄부터 N개의 줄에는 각 회원의 나이와 이름이 공백으로 구분되어 주어진다. 나이는 1보다 크거나 같으며, 200보다 작거나 같은 정수이고, 이름은 알파벳 대소문자로 이루어져 있고, 길이가 100보다 작거나 같은 문자열이다. 입력은 가입한 순서로 주어진다.\n",
    "\n",
    "\n",
    "### 출력\n",
    "\n",
    "첫째 줄부터 총 N개의 줄에 걸쳐 온라인 저지 회원을 나이 순, 나이가 같으면 가입한 순으로 한 줄에 한 명씩 나이와 이름을 공백으로 구분해 출력한다.\n",
    "\n",
    "\n",
    "\n"
   ]
  },
  {
   "cell_type": "code",
   "execution_count": null,
   "metadata": {},
   "outputs": [
    {
     "name": "stdout",
     "output_type": "stream",
     "text": [
      "0\n",
      "1\n",
      "2\n"
     ]
    }
   ],
   "source": [
    "for idx, a in enumerate([1,2,3]):\n",
    "  print(idx)"
   ]
  },
  {
   "cell_type": "code",
   "execution_count": 2,
   "metadata": {},
   "outputs": [
    {
     "name": "stdout",
     "output_type": "stream",
     "text": [
      "20 Sunyoung\n",
      "21 Junkyu\n",
      "21 Dohyun\n"
     ]
    }
   ],
   "source": [
    "import sys\n",
    "\n",
    "n = int(sys.stdin.readline().strip())\n",
    "# n = 3\n",
    "\n",
    "# input = [\"21 Junkyu\", \"21 Dohyun\", \"20 Sunyoung\"]\n",
    "arr = []\n",
    "for i in range(n):\n",
    "  age, name = sys.stdin.readline().strip().split()\n",
    "  # age, name = input[i].strip().split()\n",
    "\n",
    "  age = int(age)\n",
    "  arr.append([age, name])\n",
    "\n",
    "arr.sort(key = lambda age: age[0])\n",
    "\n",
    "for i in range(n):\n",
    "  print(f\"{arr[i][0]} {arr[i][1]}\")\n",
    "\n",
    "\n",
    "  \n",
    "\n"
   ]
  },
  {
   "cell_type": "markdown",
   "metadata": {},
   "source": [
    "## 정리할 점  \n",
    "\n",
    "---\n",
    "\n",
    "* sort 함수:\n",
    "\n",
    "  sort함수에서, 특정 기준을 기준으로 sort할 경우 key 매개변수를 사용하게 된다.  \n",
    "  key에는 lambda문을 이용한다.\n",
    "  각 원소에 대해, 원소의 0번째 원소(age)를 이용해 정렬하도록 key를 사용하였다.\n",
    "\n",
    "* lambda 문:\n",
    "\n",
    "  `lambda a : b`   \n",
    "  \n",
    "  a : 입력 인자(매개변수)\n",
    "  b : 계산하고 반환되는 값"
   ]
  }
 ],
 "metadata": {
  "kernelspec": {
   "display_name": "opencv_workspace",
   "language": "python",
   "name": "python3"
  },
  "language_info": {
   "codemirror_mode": {
    "name": "ipython",
    "version": 3
   },
   "file_extension": ".py",
   "mimetype": "text/x-python",
   "name": "python",
   "nbconvert_exporter": "python",
   "pygments_lexer": "ipython3",
   "version": "3.10.6"
  }
 },
 "nbformat": 4,
 "nbformat_minor": 2
}
