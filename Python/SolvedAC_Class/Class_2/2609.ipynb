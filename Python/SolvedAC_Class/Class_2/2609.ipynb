{
 "cells": [
  {
   "cell_type": "markdown",
   "metadata": {},
   "source": [
    "# 2609. 최대공약수와 최소공배수\n",
    "\n",
    "* Difficulty: Bronze 1  \n",
    "\n",
    "------\n",
    "\n",
    "### 문제\n",
    "\n",
    "두 개의 자연수를 입력받아 최대 공약수와 최소 공배수를 출력하는 프로그램을 작성하시오.\n",
    "\n",
    "### 입력\n",
    "\n",
    "첫째 줄에는 두 개의 자연수가 주어진다. 이 둘은 10,000이하의 자연수이며 사이에 한 칸의 공백이 주어진다.\n",
    "\n",
    "### 출력\n",
    "\n",
    "첫째 줄에는 입력으로 주어진 두 수의 최대공약수를, 둘째 줄에는 입력으로 주어진 두 수의 최소 공배수를 출력한다.\n"
   ]
  },
  {
   "cell_type": "code",
   "execution_count": 6,
   "metadata": {},
   "outputs": [
    {
     "name": "stdout",
     "output_type": "stream",
     "text": [
      "0\n",
      "1\n",
      "2\n"
     ]
    }
   ],
   "source": [
    "for idx, a in enumerate([1,2,3]):\n",
    "  print(idx)"
   ]
  },
  {
   "cell_type": "code",
   "execution_count": 12,
   "metadata": {},
   "outputs": [
    {
     "name": "stdout",
     "output_type": "stream",
     "text": [
      "1\n",
      "24\n"
     ]
    }
   ],
   "source": [
    "import sys\n",
    "\n",
    "num1, num2 = map(int,sys.stdin.readline().strip().split()) \n",
    "\n",
    "# num1 = 24\n",
    "# num2 = 1\n",
    "\n",
    "\n",
    "# 소인수분해를 해야한다. 알고리즘을 짜보자.\n",
    "\n",
    "\n",
    "# 1. 소수 배열 만들기\n",
    "\n",
    "prime = [2]\n",
    "\n",
    "for i in range(3, max(num1, num2)+1):\n",
    "  check = False\n",
    "  for j in prime:\n",
    "    if i%j == 0:\n",
    "      check = True\n",
    "      break\n",
    "  if check == False:\n",
    "    prime.append(i)\n",
    "\n",
    "exponent_1 = [0] * len(prime)\n",
    "exponent_2 = [0] * len(prime)\n",
    "\n",
    "\n",
    "# 2. 소인수분해\n",
    "\n",
    "for idx, p in enumerate(prime):\n",
    "  while True:\n",
    "    if num1 % p == 0:\n",
    "      num1 = num1 / p\n",
    "      exponent_1[idx] += 1\n",
    "    else:\n",
    "      break\n",
    "\n",
    "for idx, p in enumerate(prime):\n",
    "  while True:\n",
    "    if num2 % p == 0:\n",
    "      num2 = num2 / p\n",
    "      exponent_2[idx] += 1\n",
    "    else:\n",
    "      break\n",
    "\n",
    "# 3. 최대공약수, 최소공배수\n",
    "\n",
    "G = 1\n",
    "L = 1\n",
    "\n",
    "for i in range(len(prime)):\n",
    "  # mini = min(exponent_1[i],exponent_2[i])\n",
    "  G *= (prime[i] ** min(exponent_1[i], exponent_2[i]))\n",
    "  L *= (prime[i] ** max(exponent_1[i], exponent_2[i]))\n",
    "\n",
    "print(G)\n",
    "print(L)\n",
    "\n",
    "\n",
    "\n",
    "\n",
    "\n"
   ]
  },
  {
   "cell_type": "markdown",
   "metadata": {},
   "source": [
    "## 정리할 점  \n",
    "\n",
    "---\n",
    "\n",
    "* 소수 배열 만들기   \n",
    "  dp를 이용해 만들면 간단하다. "
   ]
  }
 ],
 "metadata": {
  "kernelspec": {
   "display_name": "opencv_workspace",
   "language": "python",
   "name": "python3"
  },
  "language_info": {
   "codemirror_mode": {
    "name": "ipython",
    "version": 3
   },
   "file_extension": ".py",
   "mimetype": "text/x-python",
   "name": "python",
   "nbconvert_exporter": "python",
   "pygments_lexer": "ipython3",
   "version": "3.10.6"
  }
 },
 "nbformat": 4,
 "nbformat_minor": 2
}
