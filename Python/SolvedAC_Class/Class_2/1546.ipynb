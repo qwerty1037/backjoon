{
 "cells": [
  {
   "cell_type": "markdown",
   "metadata": {},
   "source": [
    "# 1546. 평균\n",
    "\n",
    "* Difficulty: Bronze 1   \n",
    "\n",
    "------\n",
    "\n",
    "### 문제\n",
    "\n",
    "세준이는 기말고사를 망쳤다. 세준이는 점수를 조작해서 집에 가져가기로 했다. 일단 세준이는 자기 점수 중에 최댓값을 골랐다. 이 값을 M이라고 한다. 그리고 나서 모든 점수를 점수/M*100으로 고쳤다.\n",
    "\n",
    "예를 들어, 세준이의 최고점이 70이고, 수학점수가 50이었으면 수학점수는 50/70*100이 되어 71.43점이 된다.\n",
    "\n",
    "세준이의 성적을 위의 방법대로 새로 계산했을 때, 새로운 평균을 구하는 프로그램을 작성하시오.\n",
    "\n",
    "### 입력\n",
    "\n",
    "첫째 줄에 시험 본 과목의 개수 N이 주어진다. 이 값은 1000보다 작거나 같다. 둘째 줄에 세준이의 현재 성적이 주어진다. 이 값은 100보다 작거나 같은 음이 아닌 정수이고, 적어도 하나의 값은 0보다 크다.\n",
    "\n",
    "### 출력\n",
    "\n",
    "첫째 줄에 새로운 평균을 출력한다. 실제 정답과 출력값의 절대오차 또는 상대오차가 10-2 이하이면 정답이다.\n",
    "\n"
   ]
  },
  {
   "cell_type": "code",
   "execution_count": 2,
   "metadata": {},
   "outputs": [
    {
     "name": "stdout",
     "output_type": "stream",
     "text": [
      "66.66666666666667\n"
     ]
    }
   ],
   "source": [
    "lst = [30,20,10]\n",
    "    \n",
    "avg = sum(lst)/3\n",
    "max_score = max(lst)\n",
    "manipulated_avg = avg * 100 / max_score\n",
    "\n",
    "print(manipulated_avg)"
   ]
  },
  {
   "cell_type": "code",
   "execution_count": 1,
   "metadata": {},
   "outputs": [],
   "source": [
    "import sys\n",
    "\n",
    "n = int(sys.stdin.readline())\n",
    "lst = list(map(int, sys.stdin.readline().strip().split()))\n",
    "    \n",
    "avg = sum(lst)/n\n",
    "max_score = max(lst)\n",
    "manipulated_avg = avg * 100 / max_score\n",
    "\n",
    "print(manipulated_avg)\n",
    "\n",
    "\n"
   ]
  },
  {
   "cell_type": "markdown",
   "metadata": {},
   "source": [
    "## 정리할 점  \n",
    "\n",
    "---\n",
    "\n",
    "* 정수를 list로 변환하기\n",
    "\n",
    "map(int, str(int)) : 정수를 문자열로 변환 후, 각 요소(이 경우에는 한 글자)마다 int로 변환, 즉 123을 입력받으면 1, 2, 3으로 쪼개짐\n",
    "list(map(int,str(int))) : 쪼개진 정수들을 리스트로 변환\n",
    "\n",
    "* list 뒤집기\n",
    "\n",
    "문자열을 뒤집는 함수는 존재하지 않는다. 따라서 문자열을 list로 변환 후 reverse()를 이용해 뒤집어야 한다.\n",
    "\n",
    "* 얕은 복사, 깊은 복사\n",
    "\n",
    "리스트에 대해 alist = blist 는 얕은 복사이다. 이 상태에서 alist.reverse()를 하게 되면 blist도 뒤집힌다.\n",
    "따라서, \n",
    "alist = blist[:]\n",
    ", 혹은 \n",
    "from copy import copy\n",
    "alist = copy(blist)\n",
    "와 같이 깊은 복사를 해주어야 한다."
   ]
  }
 ],
 "metadata": {
  "kernelspec": {
   "display_name": "opencv_workspace",
   "language": "python",
   "name": "python3"
  },
  "language_info": {
   "codemirror_mode": {
    "name": "ipython",
    "version": 3
   },
   "file_extension": ".py",
   "mimetype": "text/x-python",
   "name": "python",
   "nbconvert_exporter": "python",
   "pygments_lexer": "ipython3",
   "version": "3.7.9"
  }
 },
 "nbformat": 4,
 "nbformat_minor": 2
}
