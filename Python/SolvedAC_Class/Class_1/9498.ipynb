{
 "cells": [
  {
   "cell_type": "markdown",
   "metadata": {},
   "source": [
    "# 9498. 시험 성적\n",
    "\n",
    "* Difficulty: Bronze 5    \n",
    "\n",
    "\n",
    "------\n",
    "\n",
    "### 문제\n",
    "\n",
    "시험 점수를 입력받아 90 ~ 100점은 A, 80 ~ 89점은 B, 70 ~ 79점은 C, 60 ~ 69점은 D, 나머지 점수는 F를 출력하는 프로그램을 작성하시오.\n",
    "\n",
    "### 입력\n",
    "\n",
    "첫째 줄에 시험 점수가 주어진다. 시험 점수는 0보다 크거나 같고, 100보다 작거나 같은 정수이다.\n",
    "\n",
    "### 출력\n",
    "\n",
    "시험 성적을 출력한다."
   ]
  },
  {
   "cell_type": "code",
   "execution_count": null,
   "metadata": {},
   "outputs": [],
   "source": [
    "a = int(input())\n",
    "\n",
    "if a>=90 and a<=100:\n",
    "    print(\"A\")\n",
    "elif a>=80 and a<90:\n",
    "    print(\"B\")\n",
    "elif a>=70 and a<80:\n",
    "    print(\"C\")\n",
    "elif a>=60 and a<70:\n",
    "    print(\"D\")\n",
    "else:\n",
    "    print(\"F\")\n"
   ]
  }
 ],
 "metadata": {
  "language_info": {
   "name": "python"
  }
 },
 "nbformat": 4,
 "nbformat_minor": 2
}
