{
 "cells": [
  {
   "cell_type": "markdown",
   "metadata": {},
   "source": [
    "# 2751. 수 정렬하기 2\n",
    "\n",
    "* Difficulty: Silver 5  \n",
    "\n",
    "------\n",
    "\n",
    "### 문제\n",
    "\n",
    "N개의 수가 주어졌을 때, 이를 오름차순으로 정렬하는 프로그램을 작성하시오.\n",
    "\n",
    "\n",
    "### 입력\n",
    "\n",
    "첫째 줄에 수의 개수 N(1 ≤ N ≤ 1,000,000)이 주어진다. 둘째 줄부터 N개의 줄에는 수가 주어진다. 이 수는 절댓값이 1,000,000보다 작거나 같은 정수이다. 수는 중복되지 않는다.\n",
    "\n",
    "\n",
    "### 출력\n",
    "\n",
    "첫째 줄부터 N개의 줄에 오름차순으로 정렬한 결과를 한 줄에 하나씩 출력한다.\n",
    "\n"
   ]
  },
  {
   "cell_type": "code",
   "execution_count": 6,
   "metadata": {},
   "outputs": [
    {
     "name": "stdout",
     "output_type": "stream",
     "text": [
      "0\n",
      "1\n",
      "2\n"
     ]
    }
   ],
   "source": [
    "for idx, a in enumerate([1,2,3]):\n",
    "  print(idx)"
   ]
  },
  {
   "cell_type": "code",
   "execution_count": null,
   "metadata": {},
   "outputs": [],
   "source": [
    "import sys\n",
    "\n",
    "n = int(sys.stdin.readline().strip())\n",
    "list_input = []\n",
    "\n",
    "for i in range(n):\n",
    "  list_input.append(int(sys.stdin.readline().strip()))\n",
    "\n",
    "list_input.sort()\n",
    "\n",
    "for i in range(len(list_input)):\n",
    "  print(list_input[i])"
   ]
  },
  {
   "cell_type": "markdown",
   "metadata": {},
   "source": [
    "## 정리할 점  \n",
    "\n",
    "---\n",
    "\n",
    "* 소수 배열 만들기   \n",
    "  dp를 이용해 만들면 간단하다. "
   ]
  }
 ],
 "metadata": {
  "kernelspec": {
   "display_name": "opencv_workspace",
   "language": "python",
   "name": "python3"
  },
  "language_info": {
   "codemirror_mode": {
    "name": "ipython",
    "version": 3
   },
   "file_extension": ".py",
   "mimetype": "text/x-python",
   "name": "python",
   "nbconvert_exporter": "python",
   "pygments_lexer": "ipython3",
   "version": "3.10.6"
  }
 },
 "nbformat": 4,
 "nbformat_minor": 2
}
