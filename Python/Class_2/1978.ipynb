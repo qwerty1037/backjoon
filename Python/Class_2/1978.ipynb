{
 "cells": [
  {
   "cell_type": "markdown",
   "metadata": {},
   "source": [
    "# 1978. 수 찾기\n",
    "\n",
    "* Difficulty: Bronze 2  \n",
    "\n",
    "------\n",
    "\n",
    "### 문제\n",
    "\n",
    "주어진 수 N개 중에서 소수가 몇 개인지 찾아서 출력하는 프로그램을 작성하시오.\n",
    "\n",
    "### 입력\n",
    "\n",
    "첫 줄에 수의 개수 N이 주어진다. N은 100이하이다. 다음으로 N개의 수가 주어지는데 수는 1,000 이하의 자연수이다.\n",
    "\n",
    "### 출력\n",
    "\n",
    "주어진 수들 중 소수의 개수를 출력한다.\n",
    "\n"
   ]
  },
  {
   "cell_type": "code",
   "execution_count": 1,
   "metadata": {},
   "outputs": [
    {
     "ename": "TypeError",
     "evalue": "'float' object cannot be interpreted as an integer",
     "output_type": "error",
     "traceback": [
      "\u001b[0;31m---------------------------------------------------------------------------\u001b[0m",
      "\u001b[0;31mTypeError\u001b[0m                                 Traceback (most recent call last)",
      "Cell \u001b[0;32mIn[1], line 3\u001b[0m\n\u001b[1;32m      1\u001b[0m num \u001b[38;5;241m=\u001b[39m \u001b[38;5;241m3\u001b[39m\n\u001b[0;32m----> 3\u001b[0m \u001b[38;5;28;01mfor\u001b[39;00m i \u001b[38;5;129;01min\u001b[39;00m \u001b[38;5;28;43mrange\u001b[39;49m\u001b[43m(\u001b[49m\u001b[43mnum\u001b[49m\u001b[43m \u001b[49m\u001b[38;5;241;43m/\u001b[39;49m\u001b[43m \u001b[49m\u001b[38;5;241;43m2\u001b[39;49m\u001b[43m)\u001b[49m:\n\u001b[1;32m      4\u001b[0m   \u001b[38;5;28mprint\u001b[39m(i)\n",
      "\u001b[0;31mTypeError\u001b[0m: 'float' object cannot be interpreted as an integer"
     ]
    }
   ],
   "source": [
    "num = 3\n",
    "\n",
    "for i in range(num / 2):\n",
    "  print(i)"
   ]
  },
  {
   "cell_type": "code",
   "execution_count": 2,
   "metadata": {},
   "outputs": [],
   "source": [
    "import sys\n",
    "\n",
    "n = int(sys.stdin.readline().strip()) # number\n",
    "lst = list(map(int,sys.stdin.readline().strip().split())) # input array\n",
    "\n",
    "def prime(num):\n",
    "    # 2을 처리\n",
    "    if num == 2:\n",
    "        return True\n",
    "    # 짝수인 케이스를 미리 처리(효율을 위함)\n",
    "    if num % 2 == 0:\n",
    "        return False\n",
    "    # 1을 처리\n",
    "    if num == 1:\n",
    "        return False\n",
    "\n",
    "    for i in range(2,(num//2) + 1):\n",
    "        if num % i == 0:\n",
    "            return False\n",
    "\n",
    "    return True\n",
    "\n",
    "prime_count = 0\n",
    "for element in lst:\n",
    "    if prime(element) == True:\n",
    "        prime_count += 1\n",
    "\n",
    "print(prime_count)"
   ]
  },
  {
   "cell_type": "markdown",
   "metadata": {},
   "source": [
    "## 정리할 점  \n",
    "\n",
    "---\n",
    "\n",
    "* 함수\n",
    "\n",
    "파이썬에서 함수의 규격, parameter전달 방식에 대해 알아두자.\n",
    "\n",
    "* 소수 찾기 알고리즘\n",
    "\n",
    "간단한 소수 찾기 알고리즘이다. 알아만 두자."
   ]
  }
 ],
 "metadata": {
  "kernelspec": {
   "display_name": "opencv_workspace",
   "language": "python",
   "name": "python3"
  },
  "language_info": {
   "codemirror_mode": {
    "name": "ipython",
    "version": 3
   },
   "file_extension": ".py",
   "mimetype": "text/x-python",
   "name": "python",
   "nbconvert_exporter": "python",
   "pygments_lexer": "ipython3",
   "version": "3.10.6"
  }
 },
 "nbformat": 4,
 "nbformat_minor": 2
}
