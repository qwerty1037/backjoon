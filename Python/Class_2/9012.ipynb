{
 "cells": [
  {
   "cell_type": "markdown",
   "metadata": {},
   "source": [
    "# 9012. Parenthesis\n",
    "\n",
    "* Difficulty: Silver 4 \n",
    "\n",
    "------\n",
    "\n",
    "### 문제\n",
    "\n",
    "Parenthesis String (PS) consists of two parenthesis symbols ‘(’ and ‘)’ only. In parenthesis strings, some strings are called a valid PS (shortly, VPS). Let us give the formal definition of VPS. A single “( )” is a member of VPS, called the base VPS. Let x and y be a member of VPS. Then “(x)”, a VPS which encloses a VPS x with a single pair of parenthesis, is also a member of VPS. And xy, the concatenation of two VPS x and y, is a member of VPS. For example, “(())()” and ((()))” are all VPS, but “(()(”, “(())()))” and “(()” are not VPS. You are given a set of PS. You should decide if the input string is VPS or not. \n",
    "\n",
    "### 입력\n",
    "\n",
    "Your program is to read from standard input. The input consists of T test cases. The number of test cases T is given in the first line of the input. Then PS’s are given in the following T lines one by one. The length of each PS is between 2 and 50, inclusively.\n",
    "\n",
    "\n",
    "### 출력\n",
    "\n",
    "Your program is to write to standard output. Print the result in each line. If the input string is a VPS, then print “YES”. Otherwise print “NO”. \n",
    "\n"
   ]
  },
  {
   "cell_type": "code",
   "execution_count": 6,
   "metadata": {},
   "outputs": [
    {
     "name": "stdout",
     "output_type": "stream",
     "text": [
      "0\n",
      "1\n",
      "2\n"
     ]
    }
   ],
   "source": [
    "for idx, a in enumerate([1,2,3]):\n",
    "  print(idx)"
   ]
  },
  {
   "cell_type": "code",
   "execution_count": 1,
   "metadata": {},
   "outputs": [
    {
     "name": "stdout",
     "output_type": "stream",
     "text": [
      "NO\n"
     ]
    }
   ],
   "source": [
    "import sys\n",
    "\n",
    "n = int(sys.stdin.readline().strip())\n",
    "# n = 1\n",
    "\n",
    "for i in range(n):\n",
    "  arr = sys.stdin.readline().strip()\n",
    "  # arr = \"(())())\"\n",
    "\n",
    "  # 스택을 만들어야 한다.\n",
    "  stack = 0\n",
    "  vps = True\n",
    "\n",
    "  for idx in arr:\n",
    "    if idx == \"(\":\n",
    "      stack += 1\n",
    "    elif idx == \")\":\n",
    "      stack -= 1\n",
    "      if stack < 0:\n",
    "        vps = False\n",
    "        break\n",
    "      \n",
    "  if stack != 0:\n",
    "    vps = False\n",
    "  if vps:\n",
    "    print(\"YES\")\n",
    "  else:\n",
    "    print(\"NO\")\n",
    "\n",
    "  \n",
    "\n"
   ]
  },
  {
   "cell_type": "markdown",
   "metadata": {},
   "source": [
    "## 정리할 점  \n",
    "\n",
    "---\n",
    "\n",
    "* 문자열:\n",
    "\n",
    "  문자열을 입력받고 싶으면 단순하게 sys.stdin.readline().split() 해주면 된다.   \n",
    "  문자열은 list와 유사하게, 각 원소를 순회 가능하다."
   ]
  }
 ],
 "metadata": {
  "kernelspec": {
   "display_name": "opencv_workspace",
   "language": "python",
   "name": "python3"
  },
  "language_info": {
   "codemirror_mode": {
    "name": "ipython",
    "version": 3
   },
   "file_extension": ".py",
   "mimetype": "text/x-python",
   "name": "python",
   "nbconvert_exporter": "python",
   "pygments_lexer": "ipython3",
   "version": "3.10.6"
  }
 },
 "nbformat": 4,
 "nbformat_minor": 2
}
