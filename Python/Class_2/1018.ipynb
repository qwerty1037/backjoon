{
 "cells": [
  {
   "cell_type": "markdown",
   "metadata": {},
   "source": [
    "# 1018. 체스판 다시 칠하기\n",
    "\n",
    "* Difficulty: Silver 4   \n",
    "\n",
    "\n",
    "------\n",
    "\n",
    "### 문제\n",
    "\n",
    "지민이는 자신의 저택에서 MN개의 단위 정사각형으로 나누어져 있는 M×N 크기의 보드를 찾았다. 어떤 정사각형은 검은색으로 칠해져 있고, 나머지는 흰색으로 칠해져 있다. 지민이는 이 보드를 잘라서 8×8 크기의 체스판으로 만들려고 한다.\n",
    "\n",
    "체스판은 검은색과 흰색이 번갈아서 칠해져 있어야 한다. 구체적으로, 각 칸이 검은색과 흰색 중 하나로 색칠되어 있고, 변을 공유하는 두 개의 사각형은 다른 색으로 칠해져 있어야 한다. 따라서 이 정의를 따르면 체스판을 색칠하는 경우는 두 가지뿐이다. 하나는 맨 왼쪽 위 칸이 흰색인 경우, 하나는 검은색인 경우이다.\n",
    "\n",
    "보드가 체스판처럼 칠해져 있다는 보장이 없어서, 지민이는 8×8 크기의 체스판으로 잘라낸 후에 몇 개의 정사각형을 다시 칠해야겠다고 생각했다. 당연히 8*8 크기는 아무데서나 골라도 된다. 지민이가 다시 칠해야 하는 정사각형의 최소 개수를 구하는 프로그램을 작성하시오.\n",
    "\n",
    "### 입력\n",
    "\n",
    "첫째 줄에 N과 M이 주어진다. N과 M은 8보다 크거나 같고, 50보다 작거나 같은 자연수이다. 둘째 줄부터 N개의 줄에는 보드의 각 행의 상태가 주어진다. B는 검은색이며, W는 흰색이다.\n",
    "\n",
    "### 출력\n",
    "\n",
    "첫째 줄에 지민이가 다시 칠해야 하는 정사각형 개수의 최솟값을 출력한다."
   ]
  },
  {
   "cell_type": "code",
   "execution_count": 12,
   "metadata": {},
   "outputs": [
    {
     "name": "stdout",
     "output_type": "stream",
     "text": [
      "B\n",
      "1\n"
     ]
    }
   ],
   "source": [
    "row, col = map(int, input().split())\n",
    "\n",
    "input_array = [[0 for i in range(col)] for j in range(row)]\n",
    "\n",
    "for i in range(row):\n",
    "  input_array[i] = list(input())\n",
    "\n",
    "\n",
    "chess_1 = [['0' for i in range(8)] for j in range(8)]\n",
    "chess_2 = [['0' for i in range(8)] for j in range(8)]\n",
    "\n",
    "for i in range(8):\n",
    "  for j in range(8):\n",
    "    if (i+j)%2 == 0:\n",
    "      chess_1[i][j] = 'B'\n",
    "      chess_2[i][j] = 'W'\n",
    "    else:\n",
    "      chess_1[i][j] = 'W'\n",
    "      chess_2[i][j] = 'B'\n",
    "\n",
    "\n",
    "num = 99999\n",
    "\n",
    "for i in range(row - 7):\n",
    "  for j in range(col - 7):\n",
    "    # temp_array = input_array[i:i+8][j:j+8]\n",
    "    temp_array = [t[j:j+8] for t in input_array[i:i+8]]\n",
    "    diff_1 = 0\n",
    "    diff_2 = 0\n",
    "    for r in range(8):\n",
    "      for c in range(8):\n",
    "        if temp_array[r][c] != chess_1[r][c]:\n",
    "          diff_1 += 1\n",
    "        else:\n",
    "          diff_2 += 1\n",
    "    if num > min(diff_1,diff_2):\n",
    "      num = min(diff_1,diff_2)\n",
    "\n",
    "print(num)\n"
   ]
  },
  {
   "cell_type": "markdown",
   "metadata": {},
   "source": [
    "## 정리할 점  \n",
    "\n",
    "---\n",
    "\n",
    "* 2차원 배열: 파이썬에서 2차원 배열을 생성하는 방법은 아래와 같다.\n",
    "\n",
    "  `input_array = [[0 for i in range(col)] for j in range(row)]`\n",
    "\n",
    "* 2차원 배열 입력: 2차원 배열에 입력받은 문자열을 적절히 형변환하여 대입하는 과정에서 고생을 많이 했다.\n",
    "\n",
    "  `input.split()` 으로는 공백이 없는 문자열을 각 글자별로 분리하여 저장할 수 없다.  \n",
    "\n",
    "  `list(input())` 을 사용하여 1차원 배열에 문자열을 각 글자별로 분리하여 저장하고, 이를 반복하여 2차원 배열 입력을 받는다.\n",
    "\n",
    "* 2차원 배열 슬라이싱: \n",
    "\n",
    "  `array[i:i+8][j:j+8]` 과 같은 형태로 2차원 배열을 슬라이싱 할 수 없다. 이는 `array[i:i+8]`이 수행되어도 결과는 여전히 2차원 배열이며, `[j:j+8]`은 반환된 리스트의 리스트 중 하나에 대한 슬라이싱으로 해석되기 때문이다.\n",
    "\n",
    "  따라서 `[row[j:j+8] for row in input_array[i:i+8]]`와 같이 행에 대해 먼저 슬라이싱하고 이를 1차원 배열로 분리하여 각 행에 대해 슬라이싱 하는 방법으로 2차원 배열 슬라이싱을 적절하게 해야 한다."
   ]
  }
 ],
 "metadata": {
  "kernelspec": {
   "display_name": "virtual",
   "language": "python",
   "name": "python3"
  },
  "language_info": {
   "codemirror_mode": {
    "name": "ipython",
    "version": 3
   },
   "file_extension": ".py",
   "mimetype": "text/x-python",
   "name": "python",
   "nbconvert_exporter": "python",
   "pygments_lexer": "ipython3",
   "version": "3.10.6"
  },
  "orig_nbformat": 4
 },
 "nbformat": 4,
 "nbformat_minor": 2
}
