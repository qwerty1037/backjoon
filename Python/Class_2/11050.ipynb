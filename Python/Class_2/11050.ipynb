{
 "cells": [
  {
   "cell_type": "markdown",
   "metadata": {},
   "source": [
    "# 11050: 이항 계수 1\n",
    "\n",
    "* Difficulty: Bronze 1 \n",
    "\n",
    "------\n",
    "\n",
    "### 문제\n",
    "\n",
    "자연수 $ N $ 과 정수 $ K $ 가 주어졌을 때 이항 계수 $ {N \\choose K} $ 를 구하는 프로그램을 작성하시오. \n",
    "\n",
    "### 입력\n",
    "\n",
    "첫째 줄에 $N$ 과 $K$ 가 주어진다. ( $1 \\le N \\le 10$ , $0 \\le K \\le N$ )\n",
    "\n",
    "### 출력\n",
    "\n",
    "${N \\choose K}$ 를 출력한다."
   ]
  },
  {
   "cell_type": "code",
   "execution_count": 2,
   "metadata": {},
   "outputs": [
    {
     "name": "stdout",
     "output_type": "stream",
     "text": [
      "184756\n"
     ]
    }
   ],
   "source": [
    "import sys\n",
    "n, k = map(int, sys.stdin.readline().strip().split())\n",
    "# n = 20\n",
    "# k = 10\n",
    "\n",
    "def factorial(num):\n",
    "  if num <= 1:\n",
    "    return 1\n",
    "  else:\n",
    "    return num * factorial(num - 1)\n",
    "  \n",
    "answer = factorial(n) / (factorial(k) * factorial(n - k))\n",
    "print(int(answer))"
   ]
  },
  {
   "cell_type": "markdown",
   "metadata": {},
   "source": [
    "## 정리할 점  \n",
    "\n",
    "---\n",
    "\n",
    "* 팩토리얼을 구현할 때 dp를 이용하면 더 시간을 줄일 수 있다. \n",
    "\n",
    "* nCr을 구현할 떄 그냥 깡 팩토리얼 연산 하는거 같다."
   ]
  }
 ],
 "metadata": {
  "kernelspec": {
   "display_name": "opencv_workspace",
   "language": "python",
   "name": "python3"
  },
  "language_info": {
   "codemirror_mode": {
    "name": "ipython",
    "version": 3
   },
   "file_extension": ".py",
   "mimetype": "text/x-python",
   "name": "python",
   "nbconvert_exporter": "python",
   "pygments_lexer": "ipython3",
   "version": "3.10.6"
  }
 },
 "nbformat": 4,
 "nbformat_minor": 2
}
