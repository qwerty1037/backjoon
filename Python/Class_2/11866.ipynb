{
 "cells": [
  {
   "cell_type": "markdown",
   "metadata": {},
   "source": [
    "# 11866. 요세푸스 문제 0 \n",
    "\n",
    "* Difficulty: Silver 5 \n",
    "\n",
    "------\n",
    "\n",
    "### 문제\n",
    "\n",
    "2차원 평면 위의 점 N개가 주어진다. 좌표를 x좌표가 증가하는 순으로, x좌표가 같으면 y좌표가 증가하는 순서로 정렬한 다음 출력하는 프로그램을 작성하시오. \n",
    "\n",
    "### 입력\n",
    "\n",
    "첫째 줄에 점의 개수 N (1 ≤ N ≤ 100,000)이 주어진다. 둘째 줄부터 N개의 줄에는 i번점의 위치 xi와 yi가 주어진다. (-100,000 ≤ xi, yi ≤ 100,000) 좌표는 항상 정수이고, 위치가 같은 두 점은 없다.\n",
    "\n",
    "### 출력\n",
    "\n",
    "첫째 줄부터 N개의 줄에 점을 정렬한 결과를 출력한다.\n",
    "\n"
   ]
  },
  {
   "cell_type": "code",
   "execution_count": 2,
   "metadata": {},
   "outputs": [
    {
     "name": "stdout",
     "output_type": "stream",
     "text": [
      "184756\n"
     ]
    }
   ],
   "source": [
    "import sys\n",
    "\n",
    "n = int(sys.stdin.readline().strip())\n",
    "\n",
    "coordinate = []\n",
    "\n",
    "for i in range(n):\n",
    "  x, y = map(int, sys.stdin.readline().strip().split())\n",
    "  coordinate.append([x, y])\n",
    "\n",
    "coordinate.sort(key = lambda arr: (arr[0],arr[1]))\n",
    "\n",
    "for i in range(n):\n",
    "  print(f\"{coordinate[i][0]} {coordinate[i][1]}\")"
   ]
  },
  {
   "cell_type": "markdown",
   "metadata": {},
   "source": [
    "## 정리할 점  \n",
    "\n",
    "---\n",
    "\n",
    "* 팩토리얼을 구현할 때 dp를 이용하면 더 시간을 줄일 수 있다. \n",
    "\n",
    "* nCr을 구현할 떄 그냥 깡 팩토리얼 연산 하는거 같다."
   ]
  }
 ],
 "metadata": {
  "kernelspec": {
   "display_name": "opencv_workspace",
   "language": "python",
   "name": "python3"
  },
  "language_info": {
   "codemirror_mode": {
    "name": "ipython",
    "version": 3
   },
   "file_extension": ".py",
   "mimetype": "text/x-python",
   "name": "python",
   "nbconvert_exporter": "python",
   "pygments_lexer": "ipython3",
   "version": "3.10.6"
  }
 },
 "nbformat": 4,
 "nbformat_minor": 2
}
