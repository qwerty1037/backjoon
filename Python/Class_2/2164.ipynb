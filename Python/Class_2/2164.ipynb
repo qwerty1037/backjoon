{
 "cells": [
  {
   "cell_type": "markdown",
   "metadata": {},
   "source": [
    "# 2164. 카드2\n",
    "\n",
    "* Difficulty: Silver 4  \n",
    "\n",
    "------\n",
    "\n",
    "### 문제\n",
    "\n",
    "N장의 카드가 있다. 각각의 카드는 차례로 1부터 N까지의 번호가 붙어 있으며, 1번 카드가 제일 위에, N번 카드가 제일 아래인 상태로 순서대로 카드가 놓여 있다.\n",
    "\n",
    "이제 다음과 같은 동작을 카드가 한 장 남을 때까지 반복하게 된다. 우선, 제일 위에 있는 카드를 바닥에 버린다. 그 다음, 제일 위에 있는 카드를 제일 아래에 있는 카드 밑으로 옮긴다.\n",
    "\n",
    "예를 들어 N=4인 경우를 생각해 보자. 카드는 제일 위에서부터 1234 의 순서로 놓여있다. 1을 버리면 234가 남는다. 여기서 2를 제일 아래로 옮기면 342가 된다. 3을 버리면 42가 되고, 4를 밑으로 옮기면 24가 된다. 마지막으로 2를 버리고 나면, 남는 카드는 4가 된다.\n",
    "\n",
    "N이 주어졌을 때, 제일 마지막에 남게 되는 카드를 구하는 프로그램을 작성하시오.\n",
    "\n",
    "### 입력\n",
    "\n",
    "첫째 줄에 정수 N(1 ≤ N ≤ 500,000)이 주어진다.\n",
    "\n",
    "### 출력\n",
    "\n",
    "첫째 줄에 남게 되는 카드의 번호를 출력한다.\n",
    "\n"
   ]
  },
  {
   "cell_type": "code",
   "execution_count": 4,
   "metadata": {},
   "outputs": [
    {
     "name": "stdout",
     "output_type": "stream",
     "text": [
      "[2, 4, 6]\n"
     ]
    }
   ],
   "source": [
    "a = [1,2,3,4,5,6]\n",
    "print(a[1:6:2])"
   ]
  },
  {
   "cell_type": "code",
   "execution_count": 3,
   "metadata": {},
   "outputs": [
    {
     "name": "stdout",
     "output_type": "stream",
     "text": [
      "6\n"
     ]
    }
   ],
   "source": [
    "import sys\n",
    "\n",
    "n = int(sys.stdin.readline().strip()) \n",
    "lst = list(range(1,n+1))\n",
    "def filter(lst_param):\n",
    "    length = len(lst_param)\n",
    "    if length == 1 :\n",
    "        return lst_param[0]\n",
    "    elif length == 2 or length == 3:\n",
    "        return lst_param[1]\n",
    "    else: \n",
    "        new_list = lst_param[1::2]\n",
    "        if length % 2 == 1:\n",
    "            tmp = new_list[0]\n",
    "            new_list = new_list[1:]\n",
    "            new_list.append(tmp)\n",
    "        return filter(new_list)\n",
    "\n",
    "print(filter(lst))\n",
    "\n"
   ]
  },
  {
   "cell_type": "markdown",
   "metadata": {},
   "source": [
    "## 정리할 점  \n",
    "\n",
    "---\n",
    "\n",
    "* range()\n",
    "\n",
    "range()는 list를 반환하지 않는다. range()객체 그대로를 반환한다. 이를 list로 활용하고 싶으면, list(range(n))으로 활용해야 한다.\n",
    "\n",
    "* list[start:stop:stride]\n",
    "\n",
    "예를들어 a = [1,2,3,4,5,6]에서 a[1:6:2] = [2,4,6]"
   ]
  }
 ],
 "metadata": {
  "kernelspec": {
   "display_name": "opencv_workspace",
   "language": "python",
   "name": "python3"
  },
  "language_info": {
   "codemirror_mode": {
    "name": "ipython",
    "version": 3
   },
   "file_extension": ".py",
   "mimetype": "text/x-python",
   "name": "python",
   "nbconvert_exporter": "python",
   "pygments_lexer": "ipython3",
   "version": "3.10.6"
  }
 },
 "nbformat": 4,
 "nbformat_minor": 2
}
