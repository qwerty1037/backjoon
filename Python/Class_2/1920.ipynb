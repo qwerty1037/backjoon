{
 "cells": [
  {
   "cell_type": "markdown",
   "metadata": {},
   "source": [
    "# 1920. 수 찾기\n",
    "\n",
    "* Difficulty: Silver 4 \n",
    "\n",
    "------\n",
    "\n",
    "### 문제\n",
    "\n",
    "N개의 정수 A[1], A[2], …, A[N]이 주어져 있을 때, 이 안에 X라는 정수가 존재하는지 알아내는 프로그램을 작성하시오.\n",
    "\n",
    "### 입력\n",
    "\n",
    "첫째 줄에 자연수 N(1 ≤ N ≤ 100,000)이 주어진다. 다음 줄에는 N개의 정수 A[1], A[2], …, A[N]이 주어진다. 다음 줄에는 M(1 ≤ M ≤ 100,000)이 주어진다. 다음 줄에는 M개의 수들이 주어지는데, 이 수들이 A안에 존재하는지 알아내면 된다. 모든 정수의 범위는 -231 보다 크거나 같고 231보다 작다.\n",
    "\n",
    "### 출력\n",
    "\n",
    "M개의 줄에 답을 출력한다. 존재하면 1을, 존재하지 않으면 0을 출력한다.\n",
    "\n"
   ]
  },
  {
   "cell_type": "code",
   "execution_count": 1,
   "metadata": {},
   "outputs": [
    {
     "name": "stdout",
     "output_type": "stream",
     "text": [
      "3\n"
     ]
    }
   ],
   "source": [
    "h = int((3+4)/2)\n",
    "print(h)"
   ]
  },
  {
   "cell_type": "code",
   "execution_count": 1,
   "metadata": {},
   "outputs": [],
   "source": [
    "import sys\n",
    "\n",
    "n = int(sys.stdin.readline().strip())\n",
    "A = list(map(int, sys.stdin.readline().strip().split()))\n",
    "A.sort()\n",
    "m = int(sys.stdin.readline().strip())\n",
    "B = list(map(int, sys.stdin.readline().strip().split()))\n",
    "\n",
    "\n",
    "for i in range(m):\n",
    "    exist = False\n",
    "    h_min = 0\n",
    "    h_max = n\n",
    "    h = int((h_min + h_max) / 2)\n",
    "    while(True):\n",
    "        if A[h] < B[i]:\n",
    "            h_min = h\n",
    "            h = int((h_min + h_max) / 2)\n",
    "        elif A[h] > B[i]:\n",
    "            h_max = h\n",
    "            h = int((h_min + h_max) / 2)\n",
    "        else:\n",
    "            exist = True\n",
    "            break\n",
    "        if (h_max - h_min) < 20:\n",
    "            break\n",
    "    for j in range(h_min,h_max+1):\n",
    "        if A[j] == B[i]:\n",
    "            exist = True\n",
    "            break\n",
    "    if exist == True:\n",
    "        print(\"1\")\n",
    "    else:\n",
    "        print(\"0\")\n",
    "\n",
    "        \n",
    "\n",
    "\n"
   ]
  },
  {
   "cell_type": "markdown",
   "metadata": {},
   "source": [
    "## 정리할 점  \n",
    "\n",
    "---\n",
    "\n",
    "* 정수를 list로 변환하기\n",
    "\n",
    "map(int, str(int)) : 정수를 문자열로 변환 후, 각 요소(이 경우에는 한 글자)마다 int로 변환, 즉 123을 입력받으면 1, 2, 3으로 쪼개짐\n",
    "list(map(int,str(int))) : 쪼개진 정수들을 리스트로 변환\n",
    "\n",
    "* list 뒤집기\n",
    "\n",
    "문자열을 뒤집는 함수는 존재하지 않는다. 따라서 문자열을 list로 변환 후 reverse()를 이용해 뒤집어야 한다.\n",
    "\n",
    "* 얕은 복사, 깊은 복사\n",
    "\n",
    "리스트에 대해 alist = blist 는 얕은 복사이다. 이 상태에서 alist.reverse()를 하게 되면 blist도 뒤집힌다.\n",
    "따라서, \n",
    "alist = blist[:]\n",
    ", 혹은 \n",
    "from copy import copy\n",
    "alist = copy(blist)\n",
    "와 같이 깊은 복사를 해주어야 한다."
   ]
  }
 ],
 "metadata": {
  "kernelspec": {
   "display_name": "opencv_workspace",
   "language": "python",
   "name": "python3"
  },
  "language_info": {
   "codemirror_mode": {
    "name": "ipython",
    "version": 3
   },
   "file_extension": ".py",
   "mimetype": "text/x-python",
   "name": "python",
   "nbconvert_exporter": "python",
   "pygments_lexer": "ipython3",
   "version": "3.7.9"
  }
 },
 "nbformat": 4,
 "nbformat_minor": 2
}
