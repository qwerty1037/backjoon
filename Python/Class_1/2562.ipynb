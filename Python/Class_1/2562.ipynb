{
 "cells": [
  {
   "cell_type": "markdown",
   "metadata": {},
   "source": [
    "# 2562. 최댓값\n",
    "\n",
    "* Difficulty: Bronze 3    \n",
    "\n",
    "\n",
    "------\n",
    "\n",
    "### 문제\n",
    "\n",
    "9개의 서로 다른 자연수가 주어질 때, 이들 중 최댓값을 찾고 그 최댓값이 몇 번째 수인지를 구하는 프로그램을 작성하시오.\n",
    "\n",
    "예를 들어, 서로 다른 9개의 자연수\n",
    "\n",
    "3, 29, 38, 12, 57, 74, 40, 85, 61\n",
    "\n",
    "이 주어지면, 이들 중 최댓값은 85이고, 이 값은 8번째 수이다.\n",
    "\n",
    "### 입력\n",
    "\n",
    "첫째 줄부터 아홉 번째 줄까지 한 줄에 하나의 자연수가 주어진다. 주어지는 자연수는 100 보다 작다.\n",
    "\n",
    "\n",
    "### 출력\n",
    "\n",
    "첫째 줄에 최댓값을 출력하고, 둘째 줄에 최댓값이 몇 번째 수인지를 출력한다.\n",
    "\n"
   ]
  },
  {
   "cell_type": "code",
   "execution_count": 2,
   "metadata": {},
   "outputs": [
    {
     "name": "stdout",
     "output_type": "stream",
     "text": [
      "8\n",
      "6\n"
     ]
    }
   ],
   "source": [
    "# import sys\n",
    "\n",
    "# list = [0 for i in range(9)]\n",
    "list = [int(input()) for i in range(9)]\n",
    "\n",
    "# list = [int(sys.stdin.readline()) for i in range(9)]\n",
    "\n",
    "max = 0\n",
    "argmax = 0\n",
    "for idx, element in enumerate(list):\n",
    "    if max < element:\n",
    "        max = element\n",
    "        argmax = idx\n",
    "\n",
    "print(max)\n",
    "print(argmax + 1)"
   ]
  },
  {
   "cell_type": "markdown",
   "metadata": {},
   "source": [
    "정리할 점:\n",
    "\n",
    "파이썬의 입출력에 대해 많은 것을 배웠다. 정리해두고 까먹지 않도록 하자.\n",
    "\n",
    "input(): 파이썬은 기본적으로 입력을 하나의 문자열로 받는다."
   ]
  }
 ],
 "metadata": {
  "kernelspec": {
   "display_name": "opencv_workspace",
   "language": "python",
   "name": "python3"
  },
  "language_info": {
   "codemirror_mode": {
    "name": "ipython",
    "version": 3
   },
   "file_extension": ".py",
   "mimetype": "text/x-python",
   "name": "python",
   "nbconvert_exporter": "python",
   "pygments_lexer": "ipython3",
   "version": "3.12.0"
  }
 },
 "nbformat": 4,
 "nbformat_minor": 2
}
